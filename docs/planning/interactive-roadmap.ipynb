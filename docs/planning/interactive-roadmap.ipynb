{
 "cells": [
  {
   "cell_type": "code",
   "execution_count": 12,
   "id": "537bb4fa",
   "metadata": {},
   "outputs": [],
   "source": [
    "tasks = [\n",
    "  {\"label\": \"JustSplit MVP Launch\", \"start_week\": 1, \"duration_weeks\": 3, \"hours\": 60, \"cost\": 0, \"phase\": \"Project\"},\n",
    "  {\"label\": \"Reusable Firebase Template\", \"start_week\": 2, \"duration_weeks\": 2, \"hours\": 40, \"cost\": 0, \"phase\": \"Infra\"},\n",
    "  {\"label\": \"Open Donations + GitHub Sponsors\", \"start_week\": 4, \"duration_weeks\": 1, \"hours\": 6, \"cost\": 0, \"phase\": \"Income\"},\n",
    "  {\"label\": \"IMPI Trademark Registration\", \"start_week\": 5, \"duration_weeks\": 2, \"hours\": 5, \"cost\": 250, \"phase\": \"Legal\"},\n",
    "\n",
    "  {\"label\": \"Launch Demos MVP\", \"start_week\": 7, \"duration_weeks\": 3, \"hours\": 60, \"cost\": 0, \"phase\": \"Project\"},\n",
    "  {\"label\": \"CyberEco Hub UI v1 Design\", \"start_week\": 8, \"duration_weeks\": 2, \"hours\": 40, \"cost\": 0, \"phase\": \"Project\"},\n",
    "  {\"label\": \"Integrate EthicalAds\", \"start_week\": 10, \"duration_weeks\": 1, \"hours\": 8, \"cost\": 0, \"phase\": \"Income\"},\n",
    "  {\"label\": \"Activate Feedback Voting System\", \"start_week\": 11, \"duration_weeks\": 2, \"hours\": 30, \"cost\": 0, \"phase\": \"User\"},\n",
    "  {\"label\": \"Legal Entity Registration (SAS)\", \"start_week\": 12, \"duration_weeks\": 2, \"hours\": 6, \"cost\": 500, \"phase\": \"Legal\"},\n",
    "  {\"label\": \"Release Conciliation MVP\", \"start_week\": 13, \"duration_weeks\": 3, \"hours\": 50, \"cost\": 0, \"phase\": \"Project\"},\n",
    "\n",
    "  {\"label\": \"Design MyData Dashboard\", \"start_week\": 16, \"duration_weeks\": 2, \"hours\": 40, \"cost\": 0, \"phase\": \"Project\"},\n",
    "  {\"label\": \"Implement OAuth SSO\", \"start_week\": 18, \"duration_weeks\": 2, \"hours\": 20, \"cost\": 0, \"phase\": \"Infra\"},\n",
    "  {\"label\": \"Hub + JustSplit Integration\", \"start_week\": 20, \"duration_weeks\": 2, \"hours\": 24, \"cost\": 0, \"phase\": \"Infra\"},\n",
    "\n",
    "  {\"label\": \"Launch Plantopia MVP\", \"start_week\": 24, \"duration_weeks\": 3, \"hours\": 60, \"cost\": 100, \"phase\": \"Project\"},\n",
    "  {\"label\": \"First Community Workshop\", \"start_week\": 28, \"duration_weeks\": 1, \"hours\": 12, \"cost\": 0, \"phase\": \"Team\"},\n",
    "  {\"label\": \"Deploy Privacy Layer\", \"start_week\": 30, \"duration_weeks\": 2, \"hours\": 30, \"cost\": 0, \"phase\": \"Infra\"},\n",
    "\n",
    "  {\"label\": \"Beta Launch: DigitalMe\", \"start_week\": 36, \"duration_weeks\": 3, \"hours\": 50, \"cost\": 0, \"phase\": \"Project\"},\n",
    "  {\"label\": \"First DAO Governance Test\", \"start_week\": 42, \"duration_weeks\": 2, \"hours\": 20, \"cost\": 0, \"phase\": \"Legal\"},\n",
    "  {\"label\": \"EducationHub Design + Validation\", \"start_week\": 44, \"duration_weeks\": 4, \"hours\": 60, \"cost\": 0, \"phase\": \"Project\"},\n",
    "\n",
    "  {\"label\": \"Launch One-Subscription Model\", \"start_week\": 48, \"duration_weeks\": 2, \"hours\": 12, \"cost\": 0, \"phase\": \"Income\"},\n",
    "  {\"label\": \"Translate Apps for Global\", \"start_week\": 50, \"duration_weeks\": 4, \"hours\": 30, \"cost\": 150, \"phase\": \"User\"},\n",
    "  {\"label\": \"Ethical Marketplace Launch\", \"start_week\": 52, \"duration_weeks\": 4, \"hours\": 60, \"cost\": 0, \"phase\": \"Income\"}\n",
    "]"
   ]
  },
  {
   "cell_type": "code",
   "execution_count": 14,
   "id": "d969382a",
   "metadata": {},
   "outputs": [
    {
     "data": {
      "text/plain": [
       "[{'label': 'JustSplit MVP Launch',\n",
       "  'start_week': 1,\n",
       "  'duration_weeks': 3,\n",
       "  'hours': 60,\n",
       "  'cost': 0,\n",
       "  'phase': 'Project'},\n",
       " {'label': 'Reusable Firebase Template',\n",
       "  'start_week': 2,\n",
       "  'duration_weeks': 2,\n",
       "  'hours': 40,\n",
       "  'cost': 0,\n",
       "  'phase': 'Infra'},\n",
       " {'label': 'Open Donations + GitHub Sponsors',\n",
       "  'start_week': 4,\n",
       "  'duration_weeks': 1,\n",
       "  'hours': 6,\n",
       "  'cost': 0,\n",
       "  'phase': 'Income'},\n",
       " {'label': 'IMPI Trademark Registration',\n",
       "  'start_week': 5,\n",
       "  'duration_weeks': 2,\n",
       "  'hours': 5,\n",
       "  'cost': 250,\n",
       "  'phase': 'Legal'},\n",
       " {'label': 'Launch Demos MVP',\n",
       "  'start_week': 7,\n",
       "  'duration_weeks': 3,\n",
       "  'hours': 60,\n",
       "  'cost': 0,\n",
       "  'phase': 'Project'},\n",
       " {'label': 'CyberEco Hub UI v1 Design',\n",
       "  'start_week': 8,\n",
       "  'duration_weeks': 2,\n",
       "  'hours': 40,\n",
       "  'cost': 0,\n",
       "  'phase': 'Project'},\n",
       " {'label': 'Integrate EthicalAds',\n",
       "  'start_week': 10,\n",
       "  'duration_weeks': 1,\n",
       "  'hours': 8,\n",
       "  'cost': 0,\n",
       "  'phase': 'Income'},\n",
       " {'label': 'Activate Feedback Voting System',\n",
       "  'start_week': 11,\n",
       "  'duration_weeks': 2,\n",
       "  'hours': 30,\n",
       "  'cost': 0,\n",
       "  'phase': 'User'},\n",
       " {'label': 'Legal Entity Registration (SAS)',\n",
       "  'start_week': 12,\n",
       "  'duration_weeks': 2,\n",
       "  'hours': 6,\n",
       "  'cost': 500,\n",
       "  'phase': 'Legal'},\n",
       " {'label': 'Release Conciliation MVP',\n",
       "  'start_week': 13,\n",
       "  'duration_weeks': 3,\n",
       "  'hours': 50,\n",
       "  'cost': 0,\n",
       "  'phase': 'Project'},\n",
       " {'label': 'Design MyData Dashboard',\n",
       "  'start_week': 16,\n",
       "  'duration_weeks': 2,\n",
       "  'hours': 40,\n",
       "  'cost': 0,\n",
       "  'phase': 'Project'},\n",
       " {'label': 'Implement OAuth SSO',\n",
       "  'start_week': 18,\n",
       "  'duration_weeks': 2,\n",
       "  'hours': 20,\n",
       "  'cost': 0,\n",
       "  'phase': 'Infra'},\n",
       " {'label': 'Hub + JustSplit Integration',\n",
       "  'start_week': 20,\n",
       "  'duration_weeks': 2,\n",
       "  'hours': 24,\n",
       "  'cost': 0,\n",
       "  'phase': 'Infra'},\n",
       " {'label': 'Launch Plantopia MVP',\n",
       "  'start_week': 24,\n",
       "  'duration_weeks': 3,\n",
       "  'hours': 60,\n",
       "  'cost': 100,\n",
       "  'phase': 'Project'},\n",
       " {'label': 'First Community Workshop',\n",
       "  'start_week': 28,\n",
       "  'duration_weeks': 1,\n",
       "  'hours': 12,\n",
       "  'cost': 0,\n",
       "  'phase': 'Team'},\n",
       " {'label': 'Deploy Privacy Layer',\n",
       "  'start_week': 30,\n",
       "  'duration_weeks': 2,\n",
       "  'hours': 30,\n",
       "  'cost': 0,\n",
       "  'phase': 'Infra'},\n",
       " {'label': 'Beta Launch: DigitalMe',\n",
       "  'start_week': 36,\n",
       "  'duration_weeks': 3,\n",
       "  'hours': 50,\n",
       "  'cost': 0,\n",
       "  'phase': 'Project'},\n",
       " {'label': 'First DAO Governance Test',\n",
       "  'start_week': 42,\n",
       "  'duration_weeks': 2,\n",
       "  'hours': 20,\n",
       "  'cost': 0,\n",
       "  'phase': 'Legal'},\n",
       " {'label': 'EducationHub Design + Validation',\n",
       "  'start_week': 44,\n",
       "  'duration_weeks': 4,\n",
       "  'hours': 60,\n",
       "  'cost': 0,\n",
       "  'phase': 'Project'},\n",
       " {'label': 'Launch One-Subscription Model',\n",
       "  'start_week': 48,\n",
       "  'duration_weeks': 2,\n",
       "  'hours': 12,\n",
       "  'cost': 0,\n",
       "  'phase': 'Income'},\n",
       " {'label': 'Translate Apps for Global',\n",
       "  'start_week': 50,\n",
       "  'duration_weeks': 4,\n",
       "  'hours': 30,\n",
       "  'cost': 150,\n",
       "  'phase': 'User'},\n",
       " {'label': 'Ethical Marketplace Launch',\n",
       "  'start_week': 52,\n",
       "  'duration_weeks': 4,\n",
       "  'hours': 60,\n",
       "  'cost': 0,\n",
       "  'phase': 'Income'}]"
      ]
     },
     "execution_count": 14,
     "metadata": {},
     "output_type": "execute_result"
    }
   ],
   "source": [
    "# order by start_week\n",
    "tasks.sort(key=lambda x: x[\"start_week\"])\n",
    "tasks\n",
    "\n"
   ]
  },
  {
   "cell_type": "code",
   "execution_count": 16,
   "id": "5cf9ed28",
   "metadata": {},
   "outputs": [
    {
     "data": {
      "application/vnd.plotly.v1+json": {
       "config": {
        "plotlyServerURL": "https://plot.ly"
       },
       "data": [
        {
         "alignmentgroup": "True",
         "base": [
          "2025-06-01T00:00:00",
          "2025-07-13T00:00:00",
          "2025-07-20T00:00:00",
          "2025-08-24T00:00:00",
          "2025-09-14T00:00:00",
          "2025-11-09T00:00:00",
          "2026-02-01T00:00:00",
          "2026-03-29T00:00:00"
         ],
         "customdata": [
          [
           60,
           "$0.00"
          ],
          [
           60,
           "$0.00"
          ],
          [
           40,
           "$0.00"
          ],
          [
           50,
           "$0.00"
          ],
          [
           40,
           "$0.00"
          ],
          [
           60,
           "$100.00"
          ],
          [
           50,
           "$0.00"
          ],
          [
           60,
           "$0.00"
          ]
         ],
         "hovertemplate": "Phase=Project<br>Start=%{base}<br>Finish=%{x}<br>Task=%{y}<br>Hours=%{customdata[0]}<br>Cost=%{customdata[1]}<extra></extra>",
         "legendgroup": "Project",
         "marker": {
          "color": "#636efa",
          "pattern": {
           "shape": ""
          }
         },
         "name": "Project",
         "offsetgroup": "Project",
         "orientation": "h",
         "showlegend": true,
         "textposition": "auto",
         "type": "bar",
         "x": [
          1814400000,
          1814400000,
          1209600000,
          1814400000,
          1209600000,
          1814400000,
          1814400000,
          2419200000
         ],
         "xaxis": "x",
         "y": [
          "JustSplit MVP Launch",
          "Launch Demos MVP",
          "CyberEco Hub UI v1 Design",
          "Release Conciliation MVP",
          "Design MyData Dashboard",
          "Launch Plantopia MVP",
          "Beta Launch: DigitalMe",
          "EducationHub Design + Validation"
         ],
         "yaxis": "y"
        },
        {
         "alignmentgroup": "True",
         "base": [
          "2025-06-08T00:00:00",
          "2025-09-28T00:00:00",
          "2025-10-12T00:00:00",
          "2025-12-21T00:00:00"
         ],
         "customdata": [
          [
           40,
           "$0.00"
          ],
          [
           20,
           "$0.00"
          ],
          [
           24,
           "$0.00"
          ],
          [
           30,
           "$0.00"
          ]
         ],
         "hovertemplate": "Phase=Infra<br>Start=%{base}<br>Finish=%{x}<br>Task=%{y}<br>Hours=%{customdata[0]}<br>Cost=%{customdata[1]}<extra></extra>",
         "legendgroup": "Infra",
         "marker": {
          "color": "#EF553B",
          "pattern": {
           "shape": ""
          }
         },
         "name": "Infra",
         "offsetgroup": "Infra",
         "orientation": "h",
         "showlegend": true,
         "textposition": "auto",
         "type": "bar",
         "x": [
          1209600000,
          1209600000,
          1209600000,
          1209600000
         ],
         "xaxis": "x",
         "y": [
          "Reusable Firebase Template",
          "Implement OAuth SSO",
          "Hub + JustSplit Integration",
          "Deploy Privacy Layer"
         ],
         "yaxis": "y"
        },
        {
         "alignmentgroup": "True",
         "base": [
          "2025-06-22T00:00:00",
          "2025-08-03T00:00:00",
          "2026-04-26T00:00:00",
          "2026-05-24T00:00:00"
         ],
         "customdata": [
          [
           6,
           "$0.00"
          ],
          [
           8,
           "$0.00"
          ],
          [
           12,
           "$0.00"
          ],
          [
           60,
           "$0.00"
          ]
         ],
         "hovertemplate": "Phase=Income<br>Start=%{base}<br>Finish=%{x}<br>Task=%{y}<br>Hours=%{customdata[0]}<br>Cost=%{customdata[1]}<extra></extra>",
         "legendgroup": "Income",
         "marker": {
          "color": "#00cc96",
          "pattern": {
           "shape": ""
          }
         },
         "name": "Income",
         "offsetgroup": "Income",
         "orientation": "h",
         "showlegend": true,
         "textposition": "auto",
         "type": "bar",
         "x": [
          604800000,
          604800000,
          1209600000,
          2419200000
         ],
         "xaxis": "x",
         "y": [
          "Open Donations + GitHub Sponsors",
          "Integrate EthicalAds",
          "Launch One-Subscription Model",
          "Ethical Marketplace Launch"
         ],
         "yaxis": "y"
        },
        {
         "alignmentgroup": "True",
         "base": [
          "2025-06-29T00:00:00",
          "2025-08-17T00:00:00",
          "2026-03-15T00:00:00"
         ],
         "customdata": [
          [
           5,
           "$250.00"
          ],
          [
           6,
           "$500.00"
          ],
          [
           20,
           "$0.00"
          ]
         ],
         "hovertemplate": "Phase=Legal<br>Start=%{base}<br>Finish=%{x}<br>Task=%{y}<br>Hours=%{customdata[0]}<br>Cost=%{customdata[1]}<extra></extra>",
         "legendgroup": "Legal",
         "marker": {
          "color": "#ab63fa",
          "pattern": {
           "shape": ""
          }
         },
         "name": "Legal",
         "offsetgroup": "Legal",
         "orientation": "h",
         "showlegend": true,
         "textposition": "auto",
         "type": "bar",
         "x": [
          1209600000,
          1209600000,
          1209600000
         ],
         "xaxis": "x",
         "y": [
          "IMPI Trademark Registration",
          "Legal Entity Registration (SAS)",
          "First DAO Governance Test"
         ],
         "yaxis": "y"
        },
        {
         "alignmentgroup": "True",
         "base": [
          "2025-08-10T00:00:00",
          "2026-05-10T00:00:00"
         ],
         "customdata": [
          [
           30,
           "$0.00"
          ],
          [
           30,
           "$150.00"
          ]
         ],
         "hovertemplate": "Phase=User<br>Start=%{base}<br>Finish=%{x}<br>Task=%{y}<br>Hours=%{customdata[0]}<br>Cost=%{customdata[1]}<extra></extra>",
         "legendgroup": "User",
         "marker": {
          "color": "#FFA15A",
          "pattern": {
           "shape": ""
          }
         },
         "name": "User",
         "offsetgroup": "User",
         "orientation": "h",
         "showlegend": true,
         "textposition": "auto",
         "type": "bar",
         "x": [
          1209600000,
          2419200000
         ],
         "xaxis": "x",
         "y": [
          "Activate Feedback Voting System",
          "Translate Apps for Global"
         ],
         "yaxis": "y"
        },
        {
         "alignmentgroup": "True",
         "base": [
          "2025-12-07T00:00:00"
         ],
         "customdata": [
          [
           12,
           "$0.00"
          ]
         ],
         "hovertemplate": "Phase=Team<br>Start=%{base}<br>Finish=%{x}<br>Task=%{y}<br>Hours=%{customdata[0]}<br>Cost=%{customdata[1]}<extra></extra>",
         "legendgroup": "Team",
         "marker": {
          "color": "#19d3f3",
          "pattern": {
           "shape": ""
          }
         },
         "name": "Team",
         "offsetgroup": "Team",
         "orientation": "h",
         "showlegend": true,
         "textposition": "auto",
         "type": "bar",
         "x": [
          604800000
         ],
         "xaxis": "x",
         "y": [
          "First Community Workshop"
         ],
         "yaxis": "y"
        }
       ],
       "layout": {
        "barmode": "overlay",
        "font": {
         "size": 14
        },
        "height": 800,
        "legend": {
         "title": {
          "text": "Phase"
         },
         "tracegroupgap": 0
        },
        "margin": {
         "b": 20,
         "l": 20,
         "r": 20,
         "t": 40
        },
        "paper_bgcolor": "#FFFFFF",
        "plot_bgcolor": "#F9F9F9",
        "template": {
         "data": {
          "bar": [
           {
            "error_x": {
             "color": "#2a3f5f"
            },
            "error_y": {
             "color": "#2a3f5f"
            },
            "marker": {
             "line": {
              "color": "#E5ECF6",
              "width": 0.5
             },
             "pattern": {
              "fillmode": "overlay",
              "size": 10,
              "solidity": 0.2
             }
            },
            "type": "bar"
           }
          ],
          "barpolar": [
           {
            "marker": {
             "line": {
              "color": "#E5ECF6",
              "width": 0.5
             },
             "pattern": {
              "fillmode": "overlay",
              "size": 10,
              "solidity": 0.2
             }
            },
            "type": "barpolar"
           }
          ],
          "carpet": [
           {
            "aaxis": {
             "endlinecolor": "#2a3f5f",
             "gridcolor": "white",
             "linecolor": "white",
             "minorgridcolor": "white",
             "startlinecolor": "#2a3f5f"
            },
            "baxis": {
             "endlinecolor": "#2a3f5f",
             "gridcolor": "white",
             "linecolor": "white",
             "minorgridcolor": "white",
             "startlinecolor": "#2a3f5f"
            },
            "type": "carpet"
           }
          ],
          "choropleth": [
           {
            "colorbar": {
             "outlinewidth": 0,
             "ticks": ""
            },
            "type": "choropleth"
           }
          ],
          "contour": [
           {
            "colorbar": {
             "outlinewidth": 0,
             "ticks": ""
            },
            "colorscale": [
             [
              0,
              "#0d0887"
             ],
             [
              0.1111111111111111,
              "#46039f"
             ],
             [
              0.2222222222222222,
              "#7201a8"
             ],
             [
              0.3333333333333333,
              "#9c179e"
             ],
             [
              0.4444444444444444,
              "#bd3786"
             ],
             [
              0.5555555555555556,
              "#d8576b"
             ],
             [
              0.6666666666666666,
              "#ed7953"
             ],
             [
              0.7777777777777778,
              "#fb9f3a"
             ],
             [
              0.8888888888888888,
              "#fdca26"
             ],
             [
              1,
              "#f0f921"
             ]
            ],
            "type": "contour"
           }
          ],
          "contourcarpet": [
           {
            "colorbar": {
             "outlinewidth": 0,
             "ticks": ""
            },
            "type": "contourcarpet"
           }
          ],
          "heatmap": [
           {
            "colorbar": {
             "outlinewidth": 0,
             "ticks": ""
            },
            "colorscale": [
             [
              0,
              "#0d0887"
             ],
             [
              0.1111111111111111,
              "#46039f"
             ],
             [
              0.2222222222222222,
              "#7201a8"
             ],
             [
              0.3333333333333333,
              "#9c179e"
             ],
             [
              0.4444444444444444,
              "#bd3786"
             ],
             [
              0.5555555555555556,
              "#d8576b"
             ],
             [
              0.6666666666666666,
              "#ed7953"
             ],
             [
              0.7777777777777778,
              "#fb9f3a"
             ],
             [
              0.8888888888888888,
              "#fdca26"
             ],
             [
              1,
              "#f0f921"
             ]
            ],
            "type": "heatmap"
           }
          ],
          "heatmapgl": [
           {
            "colorbar": {
             "outlinewidth": 0,
             "ticks": ""
            },
            "colorscale": [
             [
              0,
              "#0d0887"
             ],
             [
              0.1111111111111111,
              "#46039f"
             ],
             [
              0.2222222222222222,
              "#7201a8"
             ],
             [
              0.3333333333333333,
              "#9c179e"
             ],
             [
              0.4444444444444444,
              "#bd3786"
             ],
             [
              0.5555555555555556,
              "#d8576b"
             ],
             [
              0.6666666666666666,
              "#ed7953"
             ],
             [
              0.7777777777777778,
              "#fb9f3a"
             ],
             [
              0.8888888888888888,
              "#fdca26"
             ],
             [
              1,
              "#f0f921"
             ]
            ],
            "type": "heatmapgl"
           }
          ],
          "histogram": [
           {
            "marker": {
             "pattern": {
              "fillmode": "overlay",
              "size": 10,
              "solidity": 0.2
             }
            },
            "type": "histogram"
           }
          ],
          "histogram2d": [
           {
            "colorbar": {
             "outlinewidth": 0,
             "ticks": ""
            },
            "colorscale": [
             [
              0,
              "#0d0887"
             ],
             [
              0.1111111111111111,
              "#46039f"
             ],
             [
              0.2222222222222222,
              "#7201a8"
             ],
             [
              0.3333333333333333,
              "#9c179e"
             ],
             [
              0.4444444444444444,
              "#bd3786"
             ],
             [
              0.5555555555555556,
              "#d8576b"
             ],
             [
              0.6666666666666666,
              "#ed7953"
             ],
             [
              0.7777777777777778,
              "#fb9f3a"
             ],
             [
              0.8888888888888888,
              "#fdca26"
             ],
             [
              1,
              "#f0f921"
             ]
            ],
            "type": "histogram2d"
           }
          ],
          "histogram2dcontour": [
           {
            "colorbar": {
             "outlinewidth": 0,
             "ticks": ""
            },
            "colorscale": [
             [
              0,
              "#0d0887"
             ],
             [
              0.1111111111111111,
              "#46039f"
             ],
             [
              0.2222222222222222,
              "#7201a8"
             ],
             [
              0.3333333333333333,
              "#9c179e"
             ],
             [
              0.4444444444444444,
              "#bd3786"
             ],
             [
              0.5555555555555556,
              "#d8576b"
             ],
             [
              0.6666666666666666,
              "#ed7953"
             ],
             [
              0.7777777777777778,
              "#fb9f3a"
             ],
             [
              0.8888888888888888,
              "#fdca26"
             ],
             [
              1,
              "#f0f921"
             ]
            ],
            "type": "histogram2dcontour"
           }
          ],
          "mesh3d": [
           {
            "colorbar": {
             "outlinewidth": 0,
             "ticks": ""
            },
            "type": "mesh3d"
           }
          ],
          "parcoords": [
           {
            "line": {
             "colorbar": {
              "outlinewidth": 0,
              "ticks": ""
             }
            },
            "type": "parcoords"
           }
          ],
          "pie": [
           {
            "automargin": true,
            "type": "pie"
           }
          ],
          "scatter": [
           {
            "fillpattern": {
             "fillmode": "overlay",
             "size": 10,
             "solidity": 0.2
            },
            "type": "scatter"
           }
          ],
          "scatter3d": [
           {
            "line": {
             "colorbar": {
              "outlinewidth": 0,
              "ticks": ""
             }
            },
            "marker": {
             "colorbar": {
              "outlinewidth": 0,
              "ticks": ""
             }
            },
            "type": "scatter3d"
           }
          ],
          "scattercarpet": [
           {
            "marker": {
             "colorbar": {
              "outlinewidth": 0,
              "ticks": ""
             }
            },
            "type": "scattercarpet"
           }
          ],
          "scattergeo": [
           {
            "marker": {
             "colorbar": {
              "outlinewidth": 0,
              "ticks": ""
             }
            },
            "type": "scattergeo"
           }
          ],
          "scattergl": [
           {
            "marker": {
             "colorbar": {
              "outlinewidth": 0,
              "ticks": ""
             }
            },
            "type": "scattergl"
           }
          ],
          "scattermapbox": [
           {
            "marker": {
             "colorbar": {
              "outlinewidth": 0,
              "ticks": ""
             }
            },
            "type": "scattermapbox"
           }
          ],
          "scatterpolar": [
           {
            "marker": {
             "colorbar": {
              "outlinewidth": 0,
              "ticks": ""
             }
            },
            "type": "scatterpolar"
           }
          ],
          "scatterpolargl": [
           {
            "marker": {
             "colorbar": {
              "outlinewidth": 0,
              "ticks": ""
             }
            },
            "type": "scatterpolargl"
           }
          ],
          "scatterternary": [
           {
            "marker": {
             "colorbar": {
              "outlinewidth": 0,
              "ticks": ""
             }
            },
            "type": "scatterternary"
           }
          ],
          "surface": [
           {
            "colorbar": {
             "outlinewidth": 0,
             "ticks": ""
            },
            "colorscale": [
             [
              0,
              "#0d0887"
             ],
             [
              0.1111111111111111,
              "#46039f"
             ],
             [
              0.2222222222222222,
              "#7201a8"
             ],
             [
              0.3333333333333333,
              "#9c179e"
             ],
             [
              0.4444444444444444,
              "#bd3786"
             ],
             [
              0.5555555555555556,
              "#d8576b"
             ],
             [
              0.6666666666666666,
              "#ed7953"
             ],
             [
              0.7777777777777778,
              "#fb9f3a"
             ],
             [
              0.8888888888888888,
              "#fdca26"
             ],
             [
              1,
              "#f0f921"
             ]
            ],
            "type": "surface"
           }
          ],
          "table": [
           {
            "cells": {
             "fill": {
              "color": "#EBF0F8"
             },
             "line": {
              "color": "white"
             }
            },
            "header": {
             "fill": {
              "color": "#C8D4E3"
             },
             "line": {
              "color": "white"
             }
            },
            "type": "table"
           }
          ]
         },
         "layout": {
          "annotationdefaults": {
           "arrowcolor": "#2a3f5f",
           "arrowhead": 0,
           "arrowwidth": 1
          },
          "autotypenumbers": "strict",
          "coloraxis": {
           "colorbar": {
            "outlinewidth": 0,
            "ticks": ""
           }
          },
          "colorscale": {
           "diverging": [
            [
             0,
             "#8e0152"
            ],
            [
             0.1,
             "#c51b7d"
            ],
            [
             0.2,
             "#de77ae"
            ],
            [
             0.3,
             "#f1b6da"
            ],
            [
             0.4,
             "#fde0ef"
            ],
            [
             0.5,
             "#f7f7f7"
            ],
            [
             0.6,
             "#e6f5d0"
            ],
            [
             0.7,
             "#b8e186"
            ],
            [
             0.8,
             "#7fbc41"
            ],
            [
             0.9,
             "#4d9221"
            ],
            [
             1,
             "#276419"
            ]
           ],
           "sequential": [
            [
             0,
             "#0d0887"
            ],
            [
             0.1111111111111111,
             "#46039f"
            ],
            [
             0.2222222222222222,
             "#7201a8"
            ],
            [
             0.3333333333333333,
             "#9c179e"
            ],
            [
             0.4444444444444444,
             "#bd3786"
            ],
            [
             0.5555555555555556,
             "#d8576b"
            ],
            [
             0.6666666666666666,
             "#ed7953"
            ],
            [
             0.7777777777777778,
             "#fb9f3a"
            ],
            [
             0.8888888888888888,
             "#fdca26"
            ],
            [
             1,
             "#f0f921"
            ]
           ],
           "sequentialminus": [
            [
             0,
             "#0d0887"
            ],
            [
             0.1111111111111111,
             "#46039f"
            ],
            [
             0.2222222222222222,
             "#7201a8"
            ],
            [
             0.3333333333333333,
             "#9c179e"
            ],
            [
             0.4444444444444444,
             "#bd3786"
            ],
            [
             0.5555555555555556,
             "#d8576b"
            ],
            [
             0.6666666666666666,
             "#ed7953"
            ],
            [
             0.7777777777777778,
             "#fb9f3a"
            ],
            [
             0.8888888888888888,
             "#fdca26"
            ],
            [
             1,
             "#f0f921"
            ]
           ]
          },
          "colorway": [
           "#636efa",
           "#EF553B",
           "#00cc96",
           "#ab63fa",
           "#FFA15A",
           "#19d3f3",
           "#FF6692",
           "#B6E880",
           "#FF97FF",
           "#FECB52"
          ],
          "font": {
           "color": "#2a3f5f"
          },
          "geo": {
           "bgcolor": "white",
           "lakecolor": "white",
           "landcolor": "#E5ECF6",
           "showlakes": true,
           "showland": true,
           "subunitcolor": "white"
          },
          "hoverlabel": {
           "align": "left"
          },
          "hovermode": "closest",
          "mapbox": {
           "style": "light"
          },
          "paper_bgcolor": "white",
          "plot_bgcolor": "#E5ECF6",
          "polar": {
           "angularaxis": {
            "gridcolor": "white",
            "linecolor": "white",
            "ticks": ""
           },
           "bgcolor": "#E5ECF6",
           "radialaxis": {
            "gridcolor": "white",
            "linecolor": "white",
            "ticks": ""
           }
          },
          "scene": {
           "xaxis": {
            "backgroundcolor": "#E5ECF6",
            "gridcolor": "white",
            "gridwidth": 2,
            "linecolor": "white",
            "showbackground": true,
            "ticks": "",
            "zerolinecolor": "white"
           },
           "yaxis": {
            "backgroundcolor": "#E5ECF6",
            "gridcolor": "white",
            "gridwidth": 2,
            "linecolor": "white",
            "showbackground": true,
            "ticks": "",
            "zerolinecolor": "white"
           },
           "zaxis": {
            "backgroundcolor": "#E5ECF6",
            "gridcolor": "white",
            "gridwidth": 2,
            "linecolor": "white",
            "showbackground": true,
            "ticks": "",
            "zerolinecolor": "white"
           }
          },
          "shapedefaults": {
           "line": {
            "color": "#2a3f5f"
           }
          },
          "ternary": {
           "aaxis": {
            "gridcolor": "white",
            "linecolor": "white",
            "ticks": ""
           },
           "baxis": {
            "gridcolor": "white",
            "linecolor": "white",
            "ticks": ""
           },
           "bgcolor": "#E5ECF6",
           "caxis": {
            "gridcolor": "white",
            "linecolor": "white",
            "ticks": ""
           }
          },
          "title": {
           "x": 0.05
          },
          "xaxis": {
           "automargin": true,
           "gridcolor": "white",
           "linecolor": "white",
           "ticks": "",
           "title": {
            "standoff": 15
           },
           "zerolinecolor": "white",
           "zerolinewidth": 2
          },
          "yaxis": {
           "automargin": true,
           "gridcolor": "white",
           "linecolor": "white",
           "ticks": "",
           "title": {
            "standoff": 15
           },
           "zerolinecolor": "white",
           "zerolinewidth": 2
          }
         }
        },
        "title": {
         "font": {
          "size": 20
         },
         "text": "CyberEco Interactive Roadmap (0–24 Months)"
        },
        "width": 1200,
        "xaxis": {
         "anchor": "y",
         "domain": [
          0,
          1
         ],
         "type": "date"
        },
        "yaxis": {
         "anchor": "x",
         "autorange": "reversed",
         "domain": [
          0,
          1
         ],
         "title": {
          "text": "Task"
         }
        }
       }
      }
     },
     "metadata": {},
     "output_type": "display_data"
    }
   ],
   "source": [
    "import json\n",
    "from datetime import datetime, timedelta\n",
    "import plotly.express as px\n",
    "import pandas as pd\n",
    "\n",
    "#with open(\"cybereco_tasks.json\") as f:\n",
    "#    tasks = json.load(f)\n",
    "\n",
    "start_date = datetime(2025, 6, 1)\n",
    "data = []\n",
    "\n",
    "for task in tasks:\n",
    "    task_start = start_date + timedelta(weeks=task[\"start_week\"] - 1)\n",
    "    task_end = task_start + timedelta(weeks=task[\"duration_weeks\"])\n",
    "    data.append({\n",
    "        \"Task\": task[\"label\"],\n",
    "        \"Start\": task_start,\n",
    "        \"Finish\": task_end,\n",
    "        \"Phase\": task[\"phase\"],\n",
    "        \"Hours\": task[\"hours\"],\n",
    "        \"Cost\": f\"${task['cost']:.2f}\"\n",
    "    })\n",
    "\n",
    "fig = px.timeline(\n",
    "    pd.DataFrame(data),\n",
    "    x_start=\"Start\",\n",
    "    x_end=\"Finish\",\n",
    "    y=\"Task\",\n",
    "    color=\"Phase\",\n",
    "    hover_data=[\"Hours\", \"Cost\"],\n",
    "    title=\"CyberEco Interactive Roadmap (0–24 Months)\"\n",
    ")\n",
    "fig.update_layout(\n",
    "    font=dict(size=14),\n",
    "    plot_bgcolor=\"#F9F9F9\",\n",
    "    paper_bgcolor=\"#FFFFFF\",\n",
    "    title_font=dict(size=20),\n",
    "    margin=dict(l=20, r=20, t=40, b=20),\n",
    "    height=800,\n",
    "    width=1200,\n",
    ")\n",
    "fig.update_yaxes(autorange=\"reversed\")\n",
    "#fig.write_html(\"cybereco_interactive_roadmap.html\")\n",
    "fig.show()"
   ]
  },
  {
   "cell_type": "markdown",
   "id": "cfff3740",
   "metadata": {},
   "source": []
  },
  {
   "cell_type": "markdown",
   "id": "30a55b05",
   "metadata": {},
   "source": []
  },
  {
   "cell_type": "markdown",
   "id": "42bb3c45",
   "metadata": {},
   "source": []
  },
  {
   "cell_type": "markdown",
   "metadata": {},
   "source": []
  },
  {
   "cell_type": "markdown",
   "id": "44a67a27",
   "metadata": {},
   "source": []
  },
  {
   "cell_type": "code",
   "execution_count": null,
   "id": "0ae8ccc0",
   "metadata": {},
   "outputs": [],
   "source": [
    "import json\n",
    "from datetime import datetime, timedelta\n",
    "import plotly.express as px\n",
    "import pandas as pd\n",
    "\n",
    "# Copia los datos del bloque JSON anterior\n",
    "#with open(\"cybereco_tasks.json\") as f:\n",
    "tasks = [\n",
    "  {\"label\": \"JustSplit MVP Launch\", \"start_week\": 1, \"duration_weeks\": 3, \"hours\": 60, \"cost\": 0, \"phase\": \"Foundation\"},\n",
    "  {\"label\": \"Reusable Firebase Template\", \"start_week\": 2, \"duration_weeks\": 2, \"hours\": 40, \"cost\": 0, \"phase\": \"Foundation\"},\n",
    "  {\"label\": \"Open Donations + GitHub Sponsors\", \"start_week\": 4, \"duration_weeks\": 1, \"hours\": 6, \"cost\": 0, \"phase\": \"Foundation\"},\n",
    "  {\"label\": \"IMPI Trademark Registration\", \"start_week\": 5, \"duration_weeks\": 2, \"hours\": 5, \"cost\": 250, \"phase\": \"Legal\"},\n",
    "\n",
    "  {\"label\": \"Launch Demos MVP\", \"start_week\": 7, \"duration_weeks\": 3, \"hours\": 60, \"cost\": 0, \"phase\": \"Core MVPs\"},\n",
    "  {\"label\": \"CyberEco Hub UI v1 Design\", \"start_week\": 8, \"duration_weeks\": 2, \"hours\": 40, \"cost\": 0, \"phase\": \"Core MVPs\"},\n",
    "  {\"label\": \"EthicalAds Integration\", \"start_week\": 10, \"duration_weeks\": 1, \"hours\": 8, \"cost\": 0, \"phase\": \"Monetization\"},\n",
    "  {\"label\": \"Community Feedback System\", \"start_week\": 11, \"duration_weeks\": 2, \"hours\": 30, \"cost\": 0, \"phase\": \"Community\"},\n",
    "  {\"label\": \"CyberEco Legal Entity Registration (SAS)\", \"start_week\": 12, \"duration_weeks\": 2, \"hours\": 6, \"cost\": 500, \"phase\": \"Legal\"},\n",
    "  {\"label\": \"Release Conciliation MVP\", \"start_week\": 13, \"duration_weeks\": 3, \"hours\": 50, \"cost\": 0, \"phase\": \"Core MVPs\"},\n",
    "\n",
    "  {\"label\": \"Design MyData Dashboard\", \"start_week\": 16, \"duration_weeks\": 2, \"hours\": 40, \"cost\": 0, \"phase\": \"Expansion\"},\n",
    "  {\"label\": \"Implement OAuth Federation\", \"start_week\": 18, \"duration_weeks\": 2, \"hours\": 20, \"cost\": 0, \"phase\": \"Infrastructure\"},\n",
    "  {\"label\": \"Test CyberEco Hub + JustSplit Integration\", \"start_week\": 20, \"duration_weeks\": 2, \"hours\": 24, \"cost\": 0, \"phase\": \"Integration\"},\n",
    "\n",
    "  {\"label\": \"Launch Plantopia MVP\", \"start_week\": 24, \"duration_weeks\": 3, \"hours\": 60, \"cost\": 100, \"phase\": \"Green Impact\"},\n",
    "  {\"label\": \"Run First Workshop with Community\", \"start_week\": 28, \"duration_weeks\": 1, \"hours\": 12, \"cost\": 0, \"phase\": \"Outreach\"},\n",
    "  {\"label\": \"Deploy Identity Privacy Layer\", \"start_week\": 30, \"duration_weeks\": 2, \"hours\": 30, \"cost\": 0, \"phase\": \"Infrastructure\"},\n",
    "\n",
    "  {\"label\": \"Beta Launch: DigitalMe\", \"start_week\": 36, \"duration_weeks\": 3, \"hours\": 50, \"cost\": 0, \"phase\": \"Personalization\"},\n",
    "  {\"label\": \"First DAO Governance Test\", \"start_week\": 42, \"duration_weeks\": 2, \"hours\": 20, \"cost\": 0, \"phase\": \"Governance\"},\n",
    "  {\"label\": \"EducationHub MVP Design + Validation\", \"start_week\": 44, \"duration_weeks\": 4, \"hours\": 60, \"cost\": 0, \"phase\": \"Education\"},\n",
    "\n",
    "  {\"label\": \"Launch CyberEco One-Subscription Model\", \"start_week\": 48, \"duration_weeks\": 2, \"hours\": 12, \"cost\": 0, \"phase\": \"Monetization\"},\n",
    "  {\"label\": \"Translate Apps for Global Launch\", \"start_week\": 50, \"duration_weeks\": 4, \"hours\": 30, \"cost\": 150, \"phase\": \"Internationalization\"},\n",
    "  {\"label\": \"Marketplace for Ethical Modules\", \"start_week\": 52, \"duration_weeks\": 4, \"hours\": 60, \"cost\": 0, \"phase\": \"Marketplace\"}\n",
    "]\n",
    "\n",
    "start_date = datetime(2025, 6, 1)\n",
    "data = []\n",
    "\n",
    "for task in tasks:\n",
    "    task_start = start_date + timedelta(weeks=task[\"start_week\"] - 1)\n",
    "    task_end = task_start + timedelta(weeks=task[\"duration_weeks\"])\n",
    "    data.append({\n",
    "        \"Task\": task[\"label\"],\n",
    "        \"Start\": task_start,\n",
    "        \"Finish\": task_end,\n",
    "        \"Phase\": task[\"phase\"],\n",
    "        \"Hours\": task[\"hours\"],\n",
    "        \"Cost\": f\"${task['cost']:.2f}\"\n",
    "    })\n",
    "\n",
    "fig = px.timeline(\n",
    "    pd.DataFrame(data),\n",
    "    x_start=\"Start\",\n",
    "    x_end=\"Finish\",\n",
    "    y=\"Task\",\n",
    "    color=\"Phase\",\n",
    "    hover_data=[\"Hours\", \"Cost\"],\n",
    "    title=\"CyberEco Interactive Roadmap (0–24 months)\",\n",
    "    # make it taller\n",
    "    height=800,\n",
    ")\n",
    "fig.update_yaxes(autorange=\"reversed\")\n",
    "\n",
    "#fig.write_html(\"cybereco_interactive_roadmap.html\")"
   ]
  }
 ],
 "metadata": {
  "kernelspec": {
   "display_name": "base",
   "language": "python",
   "name": "python3"
  },
  "language_info": {
   "codemirror_mode": {
    "name": "ipython",
    "version": 3
   },
   "file_extension": ".py",
   "mimetype": "text/x-python",
   "name": "python",
   "nbconvert_exporter": "python",
   "pygments_lexer": "ipython3",
   "version": "3.12.7"
  }
 },
 "nbformat": 4,
 "nbformat_minor": 5
}
